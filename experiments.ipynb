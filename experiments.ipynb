{
  "cells": [
    {
      "cell_type": "markdown",
      "metadata": {
        "id": "G9tQFxJTl8dP"
      },
      "source": [
        "## Install and run optuna"
      ]
    },
    {
      "cell_type": "code",
      "execution_count": null,
      "metadata": {
        "id": "CX8DM-NuGPag"
      },
      "outputs": [],
      "source": [
        "#!pip install cupy-cuda110\n",
        "!pip install -U py-boost\n",
        "!pip install optuna"
      ]
    },
    {
      "cell_type": "markdown",
      "metadata": {
        "id": "eBDwpzQIFKUi"
      },
      "source": [
        "## Imports"
      ]
    },
    {
      "cell_type": "code",
      "execution_count": null,
      "metadata": {
        "id": "smbRYY2kE7Xd"
      },
      "outputs": [],
      "source": [
        "import os\n",
        "\n",
        "os.environ[\"CUDA_DEVICE_ORDER\"] = \"PCI_BUS_ID\"\n",
        "os.environ[\"CUDA_VISIBLE_DEVICES\"] = \"0\"\n",
        "\n",
        "import cupy as cp\n",
        "import py_boost\n",
        "\n",
        "import optuna\n",
        "import numpy as np\n",
        "import pandas as pd\n",
        "\n",
        "from copy import deepcopy\n",
        "\n",
        "from sklearn.model_selection import KFold, train_test_split\n",
        "\n",
        "# simple case - just one class is used\n",
        "from py_boost import GradientBoosting \n",
        "from py_boost.gpu.losses import Loss, Metric\n",
        "\n",
        "from utils import *\n",
        "\n",
        "import gc\n",
        "\n",
        "import matplotlib.pyplot as plt\n",
        "from matplotlib.pyplot import figure\n",
        "import seaborn as sns\n",
        "sns.set_style(\"whitegrid\")\n"
      ]
    },
    {
      "cell_type": "code",
      "execution_count": null,
      "metadata": {
        "id": "8i6BtdTeG7qf"
      },
      "outputs": [],
      "source": [
        "N_TRIALS = 20\n",
        "LR_TUNE = 0.05\n",
        "LR_REFIT = 0.05\n",
        "\n",
        "NUM_TREES = 2000\n",
        "NUM_TREES_REFIT = 2000\n",
        "ES = 100\n",
        "\n",
        "N_STEPS_PLOT = 300\n",
        "SEED = 42\n"
      ]
    },
    {
      "cell_type": "markdown",
      "metadata": {
        "id": "nBjjMthLcyT3"
      },
      "source": [
        "## ALLSTATE dataset"
      ]
    },
    {
      "cell_type": "code",
      "execution_count": null,
      "metadata": {
        "colab": {
          "base_uri": "https://localhost:8080/"
        },
        "id": "OjfD82v2c9e7",
        "outputId": "46b1cc1a-acfc-43d6-d534-be15f535e951"
      },
      "outputs": [
        {
          "output_type": "stream",
          "name": "stdout",
          "text": [
            "CPU times: user 8.11 s, sys: 7.82 s, total: 15.9 s\n",
            "Wall time: 16 s\n"
          ]
        },
        {
          "output_type": "execute_result",
          "data": {
            "text/plain": [
              "3639"
            ]
          },
          "metadata": {},
          "execution_count": 77
        }
      ],
      "source": [
        "%%time\n",
        "\n",
        "data = pd.read_csv('./data/allstate.csv')\n",
        "data.drop('id', axis=1, inplace=True)\n",
        "\n",
        "for col in [x for x in data.columns if x.startswith('cat')]:\n",
        "    data[col], _ = pd.factorize(data[col])\n",
        "    \n",
        "data = data.astype({x: np.float32 for x in data.columns})\n",
        "y = data['loss'].values\n",
        "X = data.drop('loss', axis=1).values\n",
        "\n",
        "del data\n",
        "gc.collect()"
      ]
    },
    {
      "cell_type": "code",
      "execution_count": null,
      "metadata": {
        "colab": {
          "base_uri": "https://localhost:8080/"
        },
        "id": "gfQ5YzcPgpgP",
        "outputId": "d2c12022-92aa-4dd7-eb77-dd4cce7fe057"
      },
      "outputs": [
        {
          "output_type": "stream",
          "name": "stdout",
          "text": [
            "(30131, 130) (37664, 130)\n"
          ]
        }
      ],
      "source": [
        "X, X_test, y, y_test = train_test_split(X, y, test_size=0.2, shuffle=True, random_state=SEED)\n",
        "X_train, X_val, y_train, y_val = train_test_split(X, y, test_size=0.2, shuffle=True, random_state=SEED)\n",
        "\n",
        "del X, y\n",
        "gc.collect()\n",
        "\n",
        "print(X_val.shape, X_test.shape)"
      ]
    },
    {
      "cell_type": "markdown",
      "metadata": {
        "id": "SAG_Pm7ULlw8"
      },
      "source": [
        "## HOUSE PRICES dataset"
      ]
    },
    {
      "cell_type": "code",
      "execution_count": null,
      "metadata": {
        "colab": {
          "base_uri": "https://localhost:8080/"
        },
        "outputId": "00be221a-be82-4ff3-afc8-8f47d40f6c11",
        "id": "tJWFmBhdLlw_"
      },
      "outputs": [
        {
          "output_type": "stream",
          "name": "stdout",
          "text": [
            "CPU times: user 168 ms, sys: 6.73 ms, total: 175 ms\n",
            "Wall time: 190 ms\n"
          ]
        },
        {
          "output_type": "execute_result",
          "data": {
            "text/plain": [
              "0"
            ]
          },
          "metadata": {},
          "execution_count": 4
        }
      ],
      "source": [
        "%%time\n",
        "\n",
        "data = pd.read_csv('./data/House_Prices.csv')\n",
        "data.drop('Id', axis=1, inplace=True)\n",
        "data.dropna(axis=1, inplace=True)\n",
        "\n",
        "for col in [x for x in data.columns if data[x].dtype == 'O']:\n",
        "    data[col], _ = pd.factorize(data[col])\n",
        "    \n",
        "data = data.astype({x: np.float32 for x in data.columns})\n",
        "y = data['SalePrice'].values\n",
        "X = data.drop('SalePrice', axis=1).values\n",
        "\n",
        "del data\n",
        "gc.collect()"
      ]
    },
    {
      "cell_type": "code",
      "execution_count": null,
      "metadata": {
        "colab": {
          "base_uri": "https://localhost:8080/"
        },
        "outputId": "9fb37c1c-0b95-4c0b-e2c2-0be47ffc6ba0",
        "id": "iuQ34bzqLlxB"
      },
      "outputs": [
        {
          "output_type": "stream",
          "name": "stdout",
          "text": [
            "(234, 60) (292, 60)\n"
          ]
        }
      ],
      "source": [
        "X, X_test, y, y_test = train_test_split(X, y, test_size=0.2, shuffle=True, random_state=SEED)\n",
        "X_train, X_val, y_train, y_val = train_test_split(X, y, test_size=0.2, shuffle=True, random_state=SEED)\n",
        "\n",
        "del X, y\n",
        "gc.collect()\n",
        "\n",
        "print(X_val.shape, X_test.shape)"
      ]
    },
    {
      "cell_type": "markdown",
      "metadata": {
        "id": "4svcrV7YcyB9"
      },
      "source": [
        "## LIFE EXPECTANCY dataset"
      ]
    },
    {
      "cell_type": "code",
      "execution_count": null,
      "metadata": {
        "colab": {
          "base_uri": "https://localhost:8080/"
        },
        "outputId": "ef075df3-56dd-4605-e513-c6ef5b7108c9",
        "id": "sGrMY_nzcyB-"
      },
      "outputs": [
        {
          "output_type": "stream",
          "name": "stdout",
          "text": [
            "CPU times: user 146 ms, sys: 990 µs, total: 147 ms\n",
            "Wall time: 149 ms\n"
          ]
        },
        {
          "output_type": "execute_result",
          "data": {
            "text/plain": [
              "0"
            ]
          },
          "metadata": {},
          "execution_count": 69
        }
      ],
      "source": [
        "%%time\n",
        "\n",
        "data = pd.read_csv('./data/Life_Expectancy.csv')\n",
        "data.dropna(axis=0, inplace=True)\n",
        "\n",
        "for col in [x for x in data.columns if data[x].dtype == 'O']:\n",
        "    data[col], _ = pd.factorize(data[col])\n",
        "    \n",
        "data = data.astype({x: np.float32 for x in data.columns})\n",
        "y = data['Life expectancy '].values\n",
        "X = data.drop('Life expectancy ', axis=1).values\n",
        "\n",
        "del data\n",
        "gc.collect()"
      ]
    },
    {
      "cell_type": "code",
      "execution_count": null,
      "metadata": {
        "colab": {
          "base_uri": "https://localhost:8080/"
        },
        "outputId": "a1dc6c3e-6fa4-4c81-b26e-5589a5a11c05",
        "id": "Wj9eDcj5cyB_"
      },
      "outputs": [
        {
          "output_type": "stream",
          "name": "stdout",
          "text": [
            "(264, 21) (330, 21)\n"
          ]
        }
      ],
      "source": [
        "X, X_test, y, y_test = train_test_split(X, y, test_size=0.2, shuffle=True, random_state=SEED)\n",
        "X_train, X_val, y_train, y_val = train_test_split(X, y, test_size=0.2, shuffle=True, random_state=SEED)\n",
        "\n",
        "del X, y\n",
        "gc.collect()\n",
        "\n",
        "print(X_val.shape, X_test.shape)"
      ]
    },
    {
      "cell_type": "markdown",
      "metadata": {
        "id": "Z3j1aPJNdtAw"
      },
      "source": [
        "## CAR PRICE dataset"
      ]
    },
    {
      "cell_type": "code",
      "execution_count": null,
      "metadata": {
        "colab": {
          "base_uri": "https://localhost:8080/"
        },
        "outputId": "209ca046-d82c-4d2c-ba7f-e8586ac31ff7",
        "id": "Nd_vW_5ZdtAx"
      },
      "outputs": [
        {
          "output_type": "stream",
          "name": "stdout",
          "text": [
            "CPU times: user 230 ms, sys: 990 µs, total: 231 ms\n",
            "Wall time: 235 ms\n"
          ]
        },
        {
          "output_type": "execute_result",
          "data": {
            "text/plain": [
              "3547"
            ]
          },
          "metadata": {},
          "execution_count": 73
        }
      ],
      "source": [
        "%%time\n",
        "\n",
        "data = pd.read_csv('./data/car_price_prediction.csv')\n",
        "data.drop('ID', axis=1, inplace=True)\n",
        "data.dropna(axis=0, inplace=True)\n",
        "\n",
        "for col in [x for x in data.columns if data[x].dtype == 'O']:\n",
        "    data[col], _ = pd.factorize(data[col])\n",
        "    \n",
        "data = data.astype({x: np.float32 for x in data.columns})\n",
        "y = data['Price'].values\n",
        "X = data.drop('Price', axis=1).values\n",
        "\n",
        "del data\n",
        "gc.collect()"
      ]
    },
    {
      "cell_type": "code",
      "execution_count": null,
      "metadata": {
        "colab": {
          "base_uri": "https://localhost:8080/"
        },
        "outputId": "6a38c9ee-f3bd-4274-f8fb-d4357c6a4630",
        "id": "uSjplsr-dtAx"
      },
      "outputs": [
        {
          "output_type": "stream",
          "name": "stdout",
          "text": [
            "(3078, 16) (3848, 16)\n"
          ]
        }
      ],
      "source": [
        "X, X_test, y, y_test = train_test_split(X, y, test_size=0.2, shuffle=True, random_state=SEED)\n",
        "X_train, X_val, y_train, y_val = train_test_split(X, y, test_size=0.2, shuffle=True, random_state=SEED)\n",
        "\n",
        "del X, y\n",
        "gc.collect()\n",
        "\n",
        "print(X_val.shape, X_test.shape)"
      ]
    },
    {
      "cell_type": "markdown",
      "metadata": {
        "id": "EMv8omiqseE4"
      },
      "source": [
        "## The custom losses"
      ]
    },
    {
      "cell_type": "code",
      "execution_count": null,
      "metadata": {
        "id": "xwg8_LS2P85t"
      },
      "outputs": [],
      "source": [
        "def get_objective(loss, **params):\n",
        "\n",
        "    def objective(trial, params=params):\n",
        "        \n",
        "        params = {x: trial.suggest_float(x, *params[x]) for x in params}\n",
        "        \n",
        "        model = GradientBoosting(\n",
        "            loss=loss(**params), \n",
        "            metric=CustomMAEMetric(),\n",
        "            ntrees=NUM_TREES, \n",
        "            lr=LR_TUNE,\n",
        "            es=ES, \n",
        "            lambda_l2 = trial.suggest_float(\"lambda_l2\", 1., 20.),\n",
        "            max_depth=trial.suggest_int(\"max_depth\", 4, 8),\n",
        "            subsample=trial.suggest_float(\"subsample\", 0.5, 1),\n",
        "            colsample=trial.suggest_float(\"colsample\", 0.5, 1),\n",
        "            verbose=100, \n",
        "\n",
        "        )\n",
        "        model.fit(X_train, y_train, eval_sets=[{'X': X_val, 'y': y_val},])\n",
        "        y_pred = model.predict(X_val)[:, 0]\n",
        "\n",
        "        return (np.abs(y_val - y_pred)).mean()\n",
        "    \n",
        "    return objective\n",
        "\n",
        "\n",
        "def model_refit(X, y, X_val, y_val, X_test, y_test, loss, params):\n",
        "    \n",
        "    params = deepcopy(params)\n",
        "    fit_params = {}\n",
        "    \n",
        "    for k in ['lambda_l2', 'max_depth', 'subsample', 'colsample']:\n",
        "        fit_params[k] = params.pop(k)\n",
        "    \n",
        "    model = GradientBoosting(\n",
        "        loss(**params), \n",
        "        metric=CustomMAEMetric(),\n",
        "        ntrees=NUM_TREES,\n",
        "        es=ES,\n",
        "        lr = LR_REFIT,\n",
        "        verbose=100,\n",
        "        **fit_params\n",
        "    )\n",
        "\n",
        "        \n",
        "    model.fit(X, y, eval_sets=[{'X': X_val, 'y': y_val},])\n",
        "    \n",
        "    y_pred = model.predict(X_test)[:, 0]\n",
        "    test_score = np.abs(y_test - y_pred).mean()\n",
        "    \n",
        "    return model, test_score"
      ]
    },
    {
      "cell_type": "markdown",
      "metadata": {
        "id": "FaLWoAQHG7qp"
      },
      "source": [
        "## EVAL"
      ]
    },
    {
      "cell_type": "code",
      "execution_count": null,
      "metadata": {
        "id": "ZyeQ3OVLG7qq"
      },
      "outputs": [],
      "source": [
        "LOSSES = {\n",
        "    \n",
        "    'PSEUDO_HUBER': (PseudoHuberLoss, {'delta': [1, 20]}, ),\n",
        "    'HUBER': (CustomHuberLoss, {'delta': [1, 20]}, ),\n",
        "    'MSLE': CustomMSLELoss,\n",
        "    'MAE': CustomMAELoss,\n",
        "    'LogCosh': CustomLogCoshLoss,\n",
        "    \n",
        "}"
      ]
    },
    {
      "cell_type": "code",
      "execution_count": null,
      "metadata": {
        "scrolled": true,
        "id": "CcHL4yMBG7qr"
      },
      "outputs": [],
      "source": [
        "%%time\n",
        "\n",
        "test_scores = {}\n",
        "val_scores  = {}\n",
        "eval_hist   = {}\n",
        "\n",
        "for key in LOSSES:\n",
        "    \n",
        "    print(f\"PARAM TUNING FOR {key} LOSS\")\n",
        "    \n",
        "    loss = LOSSES[key]\n",
        "    \n",
        "    if type(loss) is tuple:\n",
        "        loss, params = loss\n",
        "    else:\n",
        "        params = {}\n",
        "    \n",
        "    # find best params\n",
        "    study = optuna.create_study(\n",
        "    direction='minimize'\n",
        "    )\n",
        "\n",
        "    study.optimize(\n",
        "        get_objective(loss, **params), \n",
        "        n_trials=N_TRIALS, \n",
        "        gc_after_trial=True,\n",
        "    )\n",
        "    \n",
        "    # evaluate on test set\n",
        "    print(f\"REFIT FOR {key} LOSS\")\n",
        "    \n",
        "    model, score = model_refit(X_train, y_train, X_val, y_val, X_test, y_test, loss, study.best_params)\n",
        "    eval_hist[key] = [x[0] for x in model.history]\n",
        "    val_scores[key] = min(eval_hist[key])\n",
        "    test_scores[key] = score\n",
        "    \n",
        "    print(f\"RESULTS FOR {key}: Val score {val_scores[key]}, Test score {test_scores[key]}\")\n",
        "    \n",
        "    study.trials_dataframe().to_csv(f'{key}_trials.csv')"
      ]
    },
    {
      "cell_type": "markdown",
      "metadata": {
        "id": "8RTbN7k0RRRf"
      },
      "source": [
        "## Plots"
      ]
    },
    {
      "cell_type": "code",
      "execution_count": null,
      "metadata": {
        "colab": {
          "base_uri": "https://localhost:8080/",
          "height": 521
        },
        "id": "a_xGeMMpROFx",
        "outputId": "48a855bc-eb01-456d-da49-d0f91ba6a230",
        "scrolled": false
      },
      "outputs": [
        {
          "output_type": "execute_result",
          "data": {
            "text/plain": [
              "<matplotlib.legend.Legend at 0x7fdabc935580>"
            ]
          },
          "metadata": {},
          "execution_count": 17
        },
        {
          "output_type": "display_data",
          "data": {
            "text/plain": [
              "<Figure size 1040x560 with 1 Axes>"
            ],
            "image/png": "[encoded data removed]"
          },
          "metadata": {}
        }
      ],
      "source": [
        "figure(figsize=(13, 7), dpi=80)\n",
        "\n",
        "legends = ['LogCosh', 'Huber', 'MAE', 'MSLE', 'Pseudo Huber']\n",
        "\n",
        "plt.xlabel('Number of iterations')\n",
        "plt.ylabel('Validation loss')\n",
        "plt.title('Losses comparison')\n",
        "\n",
        "for key in eval_hist:\n",
        "    plt.plot(eval_hist[key][:N_STEPS_PLOT], label=key)\n",
        "    \n",
        "plt.legend()"
      ]
    },
    {
      "cell_type": "code",
      "execution_count": null,
      "metadata": {
        "colab": {
          "base_uri": "https://localhost:8080/"
        },
        "id": "vI8Ly1L7lQi7",
        "outputId": "cd8a3cab-59a9-4f8a-8d43-b2f61a57bbe2"
      },
      "outputs": [
        {
          "output_type": "execute_result",
          "data": {
            "text/plain": [
              "{'PSEUDO_HUBER': 22817.65,\n",
              " 'HUBER': 58577.344,\n",
              " 'MSLE': 16914.023,\n",
              " 'MAE': 62387.426,\n",
              " 'LogCosh': 60335.562}"
            ]
          },
          "metadata": {},
          "execution_count": 18
        }
      ],
      "source": [
        "test_scores"
      ]
    },
    {
      "cell_type": "markdown",
      "source": [
        "## Deltas"
      ],
      "metadata": {
        "id": "AapbMo_Spq-o"
      }
    },
    {
      "cell_type": "code",
      "source": [
        "# Load params from file\n",
        "\n",
        "def load_params(path):\n",
        "  df = pd.read_csv(path)\n",
        "  best_df = df[df['value'] == df['value'].min()]\n",
        "\n",
        "  params_keys = ['delta', 'lambda_l2', 'max_depth', 'subsample', 'colsample']\n",
        "  best_params = {}\n",
        "\n",
        "  for key in params_keys:\n",
        "    best_params[key] = best_df[f'params_{key}'].values[0]\n",
        "    if type(best_params[key]) is np.float64:\n",
        "      best_params[key] = float(best_params[key])\n",
        "    else:\n",
        "      best_params[key] = int(best_params[key])\n",
        "\n",
        "  return best_params"
      ],
      "metadata": {
        "id": "pP4SvIuKpxCR"
      },
      "execution_count": null,
      "outputs": []
    },
    {
      "cell_type": "code",
      "source": [
        "# Compute score for one loss and one Dataset\n",
        "\n",
        "deltas = np.linspace(1, 100, 100)\n",
        "\n",
        "def take_scores(loss, trials_path, deltas=range(1, 20)):\n",
        "  best_params = load_params(trials_path)\n",
        "  scores = []\n",
        "\n",
        "  for delta in deltas:\n",
        "    best_params['delta'] = delta\n",
        "    model, score = model_refit(X_train, y_train, X_val, y_val, X_test, y_test, loss, best_params)\n",
        "\n",
        "    scores.append(score)\n",
        "\n",
        "  return scores"
      ],
      "metadata": {
        "id": "u1AYQgrwtYat"
      },
      "execution_count": null,
      "outputs": []
    },
    {
      "cell_type": "code",
      "source": [
        "# Compute scores for one Dataset\n",
        "\n",
        "# path = './data/allstate trials/'\n",
        "path = './data/house prices trials/'\n",
        "# path = './data/life expectancy trials/'\n",
        "# path = './data/car prices trials/'\n",
        "\n",
        "deltas_scores = {}\n",
        "HUBER_LOSSES = {\n",
        "    \n",
        "    'PSEUDO_HUBER': PseudoHuberLoss,\n",
        "    'HUBER': CustomHuberLoss,  \n",
        "\n",
        "}\n",
        "\n",
        "for key in HUBER_LOSSES:\n",
        "  loss = HUBER_LOSSES[key]\n",
        "  trials_path = path + key + '_trials.csv'\n",
        "\n",
        "  deltas_scores[key] = take_scores(loss, trials_path, deltas)"
      ],
      "metadata": {
        "id": "7rN7fbDMQqy4"
      },
      "execution_count": null,
      "outputs": []
    },
    {
      "cell_type": "code",
      "source": [
        "figure(figsize=(13, 7), dpi=80)\n",
        "\n",
        "plt.xlabel('Delta')\n",
        "plt.ylabel('Validation loss')\n",
        "plt.title('Losses comparison' + ' (HOUSE PRICES)')\n",
        "\n",
        "for key in HUBER_LOSSES:\n",
        "    plt.plot(deltas, deltas_scores[key], label=key)\n",
        "    \n",
        "plt.legend()\n",
        "plt.savefig(\"HUBERTS_HOUSE_PRICES.png\")"
      ],
      "metadata": {
        "colab": {
          "base_uri": "https://localhost:8080/",
          "height": 504
        },
        "id": "HUuUB86y7M9h",
        "outputId": "5b02ecd3-5b00-410e-f51b-109739641d8c"
      },
      "execution_count": null,
      "outputs": [
        {
          "output_type": "display_data",
          "data": {
            "text/plain": [
              "<Figure size 1040x560 with 1 Axes>"
            ],
            "image/png": "[encoded data removed]"
          },
          "metadata": {}
        }
      ]
    },
    {
      "cell_type": "code",
      "source": [],
      "metadata": {
        "id": "59zNs9SuVOJx"
      },
      "execution_count": null,
      "outputs": []
    }
  ],
  "metadata": {
    "colab": {
      "collapsed_sections": [
        "G9tQFxJTl8dP",
        "eBDwpzQIFKUi",
        "nBjjMthLcyT3",
        "SAG_Pm7ULlw8",
        "4svcrV7YcyB9",
        "Z3j1aPJNdtAw",
        "EMv8omiqseE4",
        "FaLWoAQHG7qp",
        "8RTbN7k0RRRf",
        "AapbMo_Spq-o"
      ],
      "provenance": []
    },
    "gpuClass": "standard",
    "kernelspec": {
      "display_name": "Python 3",
      "name": "python3"
    },
    "language_info": {
      "name": "python"
    },
    "accelerator": "GPU"
  },
  "nbformat": 4,
  "nbformat_minor": 0
}
