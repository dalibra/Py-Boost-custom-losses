{
 "cells": [
  {
   "cell_type": "markdown",
   "metadata": {
    "id": "G9tQFxJTl8dP"
   },
   "source": [
    "## Install and run optuna"
   ]
  },
  {
   "cell_type": "code",
   "execution_count": null,
   "metadata": {
    "id": "CX8DM-NuGPag"
   },
   "outputs": [],
   "source": [
    "!pip install cupy-cuda110\n",
    "!pip install -U py-boost\n",
    "!pip install optuna"
   ]
  },
  {
   "cell_type": "markdown",
   "metadata": {
    "id": "eBDwpzQIFKUi"
   },
   "source": [
    "## Imports"
   ]
  },
  {
   "cell_type": "code",
   "execution_count": 3,
   "metadata": {
    "id": "smbRYY2kE7Xd"
   },
   "outputs": [],
   "source": [
    "import os\n",
    "\n",
    "os.environ[\"CUDA_DEVICE_ORDER\"] = \"PCI_BUS_ID\"\n",
    "os.environ[\"CUDA_VISIBLE_DEVICES\"] = \"0\"\n",
    "\n",
    "import cupy as cp\n",
    "import py_boost\n",
    "\n",
    "import optuna\n",
    "import numpy as np\n",
    "import pandas as pd\n",
    "\n",
    "from copy import deepcopy\n",
    "\n",
    "from sklearn.model_selection import KFold, train_test_split\n",
    "\n",
    "# simple case - just one class is used\n",
    "from py_boost import GradientBoosting \n",
    "from py_boost.gpu.losses import Loss, Metric\n",
    "\n",
    "from utils import *\n",
    "\n",
    "import gc\n",
    "\n",
    "import matplotlib.pyplot as plt\n",
    "from matplotlib.pyplot import figure\n",
    "import seaborn as sns\n",
    "sns.set_style(\"whitegrid\")\n"
   ]
  },
  {
   "cell_type": "code",
   "execution_count": 4,
   "metadata": {
    "id": "8i6BtdTeG7qf"
   },
   "outputs": [],
   "source": [
    "N_TRIALS = 20\n",
    "LR_TUNE = 0.05\n",
    "LR_REFIT = 0.05\n",
    "\n",
    "NUM_TREES = 2000\n",
    "NUM_TREES_REFIT = 2000\n",
    "ES = 100\n",
    "\n",
    "N_STEPS_PLOT = 300\n",
    "SEED = 42\n"
   ]
  },
  {
   "cell_type": "markdown",
   "metadata": {
    "id": "nBjjMthLcyT3"
   },
   "source": [
    "## ALLSTATE dataset"
   ]
  },
  {
   "cell_type": "code",
   "execution_count": 7,
   "metadata": {
    "colab": {
     "base_uri": "https://localhost:8080/"
    },
    "id": "OjfD82v2c9e7",
    "outputId": "d9cbbdf6-7c71-49c0-e63b-37f8b9ec3df4"
   },
   "outputs": [
    {
     "name": "stdout",
     "output_type": "stream",
     "text": [
      "CPU times: user 8.68 s, sys: 8.39 s, total: 17.1 s\n",
      "Wall time: 18.7 s\n"
     ]
    },
    {
     "data": {
      "text/plain": [
       "0"
      ]
     },
     "execution_count": 7,
     "metadata": {},
     "output_type": "execute_result"
    }
   ],
   "source": [
    "%%time\n",
    "\n",
    "data = pd.read_csv('./train_allstate.csv')\n",
    "data.drop('id', axis=1, inplace=True)\n",
    "\n",
    "for col in [x for x in data.columns if x.startswith('cat')]:\n",
    "    data[col], _ = pd.factorize(data[col])\n",
    "    \n",
    "data = data.astype({x: np.float32 for x in data.columns})\n",
    "y = data['loss'].values\n",
    "X = data.drop('loss', axis=1).values\n",
    "\n",
    "del data\n",
    "gc.collect()"
   ]
  },
  {
   "cell_type": "code",
   "execution_count": 8,
   "metadata": {
    "colab": {
     "base_uri": "https://localhost:8080/"
    },
    "id": "gfQ5YzcPgpgP",
    "outputId": "2f17a361-5e28-4526-f256-cf8aa92bede8"
   },
   "outputs": [
    {
     "name": "stdout",
     "output_type": "stream",
     "text": [
      "(30131, 130) (37664, 130)\n"
     ]
    }
   ],
   "source": [
    "X, X_test, y, y_test = train_test_split(X, y, test_size=0.2, shuffle=True, random_state=SEED)\n",
    "X_train, X_val, y_train, y_val = train_test_split(X, y, test_size=0.2, shuffle=True, random_state=SEED)\n",
    "\n",
    "del X, y\n",
    "gc.collect()\n",
    "\n",
    "print(X_val.shape, X_test.shape)"
   ]
  },
  {
   "cell_type": "markdown",
   "metadata": {
    "id": "SAG_Pm7ULlw8"
   },
   "source": [
    "## HOUSE PRICES dataset"
   ]
  },
  {
   "cell_type": "code",
   "execution_count": 60,
   "metadata": {
    "colab": {
     "base_uri": "https://localhost:8080/"
    },
    "id": "tJWFmBhdLlw_",
    "outputId": "b9e128b7-b2a5-4349-b8d5-633b19f649d7"
   },
   "outputs": [
    {
     "name": "stdout",
     "output_type": "stream",
     "text": [
      "CPU times: user 245 ms, sys: 1.01 ms, total: 246 ms\n",
      "Wall time: 246 ms\n"
     ]
    },
    {
     "data": {
      "text/plain": [
       "0"
      ]
     },
     "execution_count": 60,
     "metadata": {},
     "output_type": "execute_result"
    }
   ],
   "source": [
    "%%time\n",
    "\n",
    "data = pd.read_csv('./train_house_prices.csv')\n",
    "data.drop('Id', axis=1, inplace=True)\n",
    "data.dropna(axis=1, inplace=True)\n",
    "\n",
    "for col in [x for x in data.columns if data[x].dtype == 'O']:\n",
    "    data[col], _ = pd.factorize(data[col])\n",
    "    \n",
    "data = data.astype({x: np.float32 for x in data.columns})\n",
    "y = data['SalePrice'].values\n",
    "X = data.drop('SalePrice', axis=1).values\n",
    "\n",
    "del data\n",
    "gc.collect()"
   ]
  },
  {
   "cell_type": "code",
   "execution_count": 61,
   "metadata": {
    "colab": {
     "base_uri": "https://localhost:8080/"
    },
    "id": "iuQ34bzqLlxB",
    "outputId": "de221f79-cab2-48ff-ea41-4e7cf39633e1"
   },
   "outputs": [
    {
     "name": "stdout",
     "output_type": "stream",
     "text": [
      "(234, 60) (292, 60)\n"
     ]
    }
   ],
   "source": [
    "X, X_test, y, y_test = train_test_split(X, y, test_size=0.2, shuffle=True, random_state=SEED)\n",
    "X_train, X_val, y_train, y_val = train_test_split(X, y, test_size=0.2, shuffle=True, random_state=SEED)\n",
    "\n",
    "del X, y\n",
    "gc.collect()\n",
    "\n",
    "print(X_val.shape, X_test.shape)"
   ]
  },
  {
   "cell_type": "markdown",
   "metadata": {
    "id": "4svcrV7YcyB9"
   },
   "source": [
    "## LIFE EXPECTANCY dataset"
   ]
  },
  {
   "cell_type": "code",
   "execution_count": 74,
   "metadata": {
    "colab": {
     "base_uri": "https://localhost:8080/"
    },
    "id": "sGrMY_nzcyB-",
    "outputId": "fc8aa542-43aa-468f-cd05-7ced6efe0322"
   },
   "outputs": [
    {
     "name": "stdout",
     "output_type": "stream",
     "text": [
      "CPU times: user 184 ms, sys: 2 ms, total: 186 ms\n",
      "Wall time: 185 ms\n"
     ]
    },
    {
     "data": {
      "text/plain": [
       "30"
      ]
     },
     "execution_count": 74,
     "metadata": {},
     "output_type": "execute_result"
    }
   ],
   "source": [
    "%%time\n",
    "\n",
    "data = pd.read_csv('./Life_Expectancy_Data.csv')\n",
    "data.dropna(axis=0, inplace=True)\n",
    "\n",
    "for col in [x for x in data.columns if data[x].dtype == 'O']:\n",
    "    data[col], _ = pd.factorize(data[col])\n",
    "    \n",
    "data = data.astype({x: np.float32 for x in data.columns})\n",
    "y = data['Life expectancy '].values\n",
    "X = data.drop('Life expectancy ', axis=1).values\n",
    "\n",
    "del data\n",
    "gc.collect()"
   ]
  },
  {
   "cell_type": "code",
   "execution_count": 75,
   "metadata": {
    "colab": {
     "base_uri": "https://localhost:8080/"
    },
    "id": "Wj9eDcj5cyB_",
    "outputId": "95c0dbe3-2594-40de-bf73-87adef4c0cf5"
   },
   "outputs": [
    {
     "name": "stdout",
     "output_type": "stream",
     "text": [
      "(264, 21) (330, 21)\n"
     ]
    }
   ],
   "source": [
    "X, X_test, y, y_test = train_test_split(X, y, test_size=0.2, shuffle=True, random_state=SEED)\n",
    "X_train, X_val, y_train, y_val = train_test_split(X, y, test_size=0.2, shuffle=True, random_state=SEED)\n",
    "\n",
    "del X, y\n",
    "gc.collect()\n",
    "\n",
    "print(X_val.shape, X_test.shape)"
   ]
  },
  {
   "cell_type": "markdown",
   "metadata": {
    "id": "Z3j1aPJNdtAw"
   },
   "source": [
    "## CAR PRICE dataset"
   ]
  },
  {
   "cell_type": "code",
   "execution_count": 80,
   "metadata": {
    "colab": {
     "base_uri": "https://localhost:8080/"
    },
    "id": "Nd_vW_5ZdtAx",
    "outputId": "ea02fe91-adf4-4781-b1f3-3d1b63e1e157"
   },
   "outputs": [
    {
     "name": "stdout",
     "output_type": "stream",
     "text": [
      "CPU times: user 352 ms, sys: 1.99 ms, total: 354 ms\n",
      "Wall time: 360 ms\n"
     ]
    },
    {
     "data": {
      "text/plain": [
       "20"
      ]
     },
     "execution_count": 80,
     "metadata": {},
     "output_type": "execute_result"
    }
   ],
   "source": [
    "%%time\n",
    "\n",
    "data = pd.read_csv('./car_price_prediction.csv')\n",
    "data.drop('ID', axis=1, inplace=True)\n",
    "data.dropna(axis=0, inplace=True)\n",
    "\n",
    "for col in [x for x in data.columns if data[x].dtype == 'O']:\n",
    "    data[col], _ = pd.factorize(data[col])\n",
    "    \n",
    "data = data.astype({x: np.float32 for x in data.columns})\n",
    "y = data['Price'].values\n",
    "X = data.drop('Price', axis=1).values\n",
    "\n",
    "del data\n",
    "gc.collect()"
   ]
  },
  {
   "cell_type": "code",
   "execution_count": 81,
   "metadata": {
    "colab": {
     "base_uri": "https://localhost:8080/"
    },
    "id": "uSjplsr-dtAx",
    "outputId": "914023b2-f1d3-45f0-807a-bfc7dce1799a"
   },
   "outputs": [
    {
     "name": "stdout",
     "output_type": "stream",
     "text": [
      "(3078, 16) (3848, 16)\n"
     ]
    }
   ],
   "source": [
    "X, X_test, y, y_test = train_test_split(X, y, test_size=0.2, shuffle=True, random_state=SEED)\n",
    "X_train, X_val, y_train, y_val = train_test_split(X, y, test_size=0.2, shuffle=True, random_state=SEED)\n",
    "\n",
    "del X, y\n",
    "gc.collect()\n",
    "\n",
    "print(X_val.shape, X_test.shape)"
   ]
  },
  {
   "cell_type": "markdown",
   "metadata": {
    "id": "EMv8omiqseE4"
   },
   "source": [
    "## The custom losses"
   ]
  },
  {
   "cell_type": "code",
   "execution_count": 62,
   "metadata": {
    "id": "xwg8_LS2P85t"
   },
   "outputs": [],
   "source": [
    "def get_objective(loss, **params):\n",
    "\n",
    "    def objective(trial, params=params):\n",
    "        \n",
    "        params = {x: trial.suggest_float(x, *params[x]) for x in params}\n",
    "        \n",
    "        model = GradientBoosting(\n",
    "            loss=loss(**params), \n",
    "            metric=CustomMAEMetric(),\n",
    "            ntrees=NUM_TREES, \n",
    "            lr=LR_TUNE,\n",
    "            es=ES, \n",
    "            lambda_l2 = trial.suggest_float(\"lambda_l2\", 1., 20.),\n",
    "            max_depth=trial.suggest_int(\"max_depth\", 4, 8),\n",
    "            subsample=trial.suggest_float(\"subsample\", 0.5, 1),\n",
    "            colsample=trial.suggest_float(\"colsample\", 0.5, 1),\n",
    "            verbose=100, \n",
    "\n",
    "        )\n",
    "        model.fit(X_train, y_train, eval_sets=[{'X': X_val, 'y': y_val},])\n",
    "        y_pred = model.predict(X_val)[:, 0]\n",
    "\n",
    "        return (np.abs(y_val - y_pred)).mean()\n",
    "    \n",
    "    return objective\n",
    "\n",
    "\n",
    "def model_refit(X, y, X_val, y_val, X_test, y_test, loss, params):\n",
    "    \n",
    "    params = deepcopy(params)\n",
    "    fit_params = {}\n",
    "    \n",
    "    for k in ['lambda_l2', 'max_depth', 'subsample', 'colsample']:\n",
    "        fit_params[k] = params.pop(k)\n",
    "    \n",
    "    model = GradientBoosting(\n",
    "        loss(**params), \n",
    "        metric=CustomMAEMetric(),\n",
    "        ntrees=NUM_TREES,\n",
    "        es=ES,\n",
    "        lr = LR_REFIT,\n",
    "        verbose=100,\n",
    "        **fit_params\n",
    "    )\n",
    "\n",
    "        \n",
    "    model.fit(X, y, eval_sets=[{'X': X_val, 'y': y_val},])\n",
    "    \n",
    "    y_pred = model.predict(X_test)[:, 0]\n",
    "    test_score = np.abs(y_test - y_pred).mean()\n",
    "    \n",
    "    return model, test_score"
   ]
  },
  {
   "cell_type": "markdown",
   "metadata": {
    "id": "FaLWoAQHG7qp"
   },
   "source": [
    "## EVAL"
   ]
  },
  {
   "cell_type": "code",
   "execution_count": 82,
   "metadata": {
    "id": "ZyeQ3OVLG7qq"
   },
   "outputs": [],
   "source": [
    "LOSSES = {\n",
    "    \n",
    "    'PSEUDO_HUBER': (PseudoHuberLoss, {'delta': [1, 20]}, ),\n",
    "    'HUBER': (CustomHuberLoss, {'delta': [1, 20]}, ),\n",
    "    'MSLE': CustomMSLELoss,\n",
    "    'MAE': CustomMAELoss,\n",
    "    'LogCosh': CustomLogCoshLoss,\n",
    "    \n",
    "}"
   ]
  },
  {
   "cell_type": "code",
   "execution_count": null,
   "metadata": {
    "id": "CcHL4yMBG7qr",
    "scrolled": true
   },
   "outputs": [],
   "source": [
    "%%time\n",
    "\n",
    "test_scores = {}\n",
    "val_scores  = {}\n",
    "eval_hist   = {}\n",
    "\n",
    "for key in LOSSES:\n",
    "    \n",
    "    print(f\"PARAM TUNING FOR {key} LOSS\")\n",
    "    \n",
    "    loss = LOSSES[key]\n",
    "    \n",
    "    if type(loss) is tuple:\n",
    "        loss, params = loss\n",
    "    else:\n",
    "        params = {}\n",
    "    \n",
    "    # find best params\n",
    "    study = optuna.create_study(\n",
    "    direction='minimize'\n",
    "    )\n",
    "\n",
    "    study.optimize(\n",
    "        get_objective(loss, **params), \n",
    "        n_trials=N_TRIALS, \n",
    "        gc_after_trial=True,\n",
    "    )\n",
    "    \n",
    "    # evaluate on test set\n",
    "    print(f\"REFIT FOR {key} LOSS\")\n",
    "    \n",
    "    model, score = model_refit(X_train, y_train, X_val, y_val, X_test, y_test, loss, study.best_params)\n",
    "    eval_hist[key] = [x[0] for x in model.history]\n",
    "    val_scores[key] = min(eval_hist[key])\n",
    "    test_scores[key] = score\n",
    "    \n",
    "    print(f\"RESULTS FOR {key}: Val score {val_scores[key]}, Test score {test_scores[key]}\")\n",
    "    \n",
    "    study.trials_dataframe().to_csv(f'{key}_trials.csv')"
   ]
  },
  {
   "cell_type": "markdown",
   "metadata": {
    "id": "8RTbN7k0RRRf"
   },
   "source": [
    "## Plots"
   ]
  },
  {
   "cell_type": "code",
   "execution_count": 84,
   "metadata": {
    "colab": {
     "base_uri": "https://localhost:8080/",
     "height": 521
    },
    "id": "a_xGeMMpROFx",
    "outputId": "36ac1af0-9e7a-45dd-e498-733b9f79161e",
    "scrolled": false
   },
   "outputs": [
    {
     "data": {
      "text/plain": [
       "<matplotlib.legend.Legend at 0x7f16c6b68400>"
      ]
     },
     "execution_count": 84,
     "metadata": {},
     "output_type": "execute_result"
    },
    {
     "data": {
      "image/png": "[encoded data removed]",
      "text/plain": [
       "<Figure size 1040x560 with 1 Axes>"
      ]
     },
     "metadata": {},
     "output_type": "display_data"
    }
   ],
   "source": [
    "figure(figsize=(13, 7), dpi=80)\n",
    "\n",
    "legends = ['LogCosh', 'Huber', 'MAE', 'MSLE', 'Pseudo Huber']\n",
    "\n",
    "plt.xlabel('Number of iterations')\n",
    "plt.ylabel('Validation loss')\n",
    "plt.title('Losses comparison')\n",
    "\n",
    "for key in eval_hist:\n",
    "    plt.plot(eval_hist[key][:N_STEPS_PLOT], label=key)\n",
    "    \n",
    "plt.legend()"
   ]
  },
  {
   "cell_type": "code",
   "execution_count": 85,
   "metadata": {
    "colab": {
     "base_uri": "https://localhost:8080/"
    },
    "id": "vI8Ly1L7lQi7",
    "outputId": "79c6d49b-8a58-4302-c66e-f71c341ad36c"
   },
   "outputs": [
    {
     "data": {
      "text/plain": [
       "{'PSEUDO_HUBER': 5871.8906,\n",
       " 'HUBER': 5941.078,\n",
       " 'MSLE': 5868.4937,\n",
       " 'MAE': 12690.63,\n",
       " 'LogCosh': 6892.3296}"
      ]
     },
     "execution_count": 85,
     "metadata": {},
     "output_type": "execute_result"
    }
   ],
   "source": [
    "test_scores"
   ]
  }
 ],
 "metadata": {
  "accelerator": "GPU",
  "colab": {
   "collapsed_sections": [
    "eBDwpzQIFKUi",
    "nBjjMthLcyT3",
    "SAG_Pm7ULlw8",
    "4svcrV7YcyB9",
    "Z3j1aPJNdtAw",
    "EMv8omiqseE4"
   ],
   "provenance": []
  },
  "gpuClass": "standard",
  "kernelspec": {
   "display_name": "Python 3 (ipykernel)",
   "language": "python",
   "name": "python3"
  },
  "language_info": {
   "codemirror_mode": {
    "name": "ipython",
    "version": 3
   },
   "file_extension": ".py",
   "mimetype": "text/x-python",
   "name": "python",
   "nbconvert_exporter": "python",
   "pygments_lexer": "ipython3",
   "version": "3.10.7"
  }
 },
 "nbformat": 4,
 "nbformat_minor": 1
}
